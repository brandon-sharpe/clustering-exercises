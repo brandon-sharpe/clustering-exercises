{
 "cells": [
  {
   "cell_type": "markdown",
   "id": "63e6037a",
   "metadata": {},
   "source": [
    "## Zillow\n",
    "\n",
    "- For the following, iterate through the steps you would take to create functions: Write the code to do the following in a jupyter notebook, test it, convert to functions, then create the file to house those functions.\n",
    "\n",
    "    \n",
    "   - You will have a zillow.ipynb file and a helper file for each section in the pipeline."
   ]
  },
  {
   "cell_type": "markdown",
   "id": "995c7dba",
   "metadata": {},
   "source": [
    "## 1) acquire & summarize\n",
    "\n",
    "Acquire data from mySQL using the python module to connect and query. You will want to end with a single dataframe. Make sure to include: the logerror, all fields related to the properties that are available. You will end up using all the tables in the database.\n",
    "\n",
    "- Be sure to do the correct join (inner, outer, etc.). We do not want to eliminate properties purely because they may have a null value for airconditioningtypeid.\n",
    "- Only include properties with a transaction in 2017, and include only the last transaction for each property (so no duplicate property ID's), along with zestimate error and date of transaction.\n",
    "- Only include properties that include a latitude and longitude value."
   ]
  },
  {
   "cell_type": "code",
   "execution_count": 1,
   "id": "dd87afcf",
   "metadata": {},
   "outputs": [],
   "source": [
    "import pandas as pd\n",
    "import numpy as np\n",
    "from env import user, host, password\n",
    "import os"
   ]
  },
  {
   "cell_type": "code",
   "execution_count": 2,
   "id": "b1da98bc",
   "metadata": {},
   "outputs": [],
   "source": [
    "def get_connection(db, username=user, host=host, password=password):\n",
    "    '''\n",
    "    Creates a connection URL\n",
    "    '''\n",
    "    return f'mysql+pymysql://{username}:{password}@{host}/{db}'\n",
    "    \n",
    "def new_zillow_data():\n",
    "    '''\n",
    "    Returns zillow into a dataframe\n",
    "    '''\n",
    "    sql_query = '''  SELECT *\n",
    "    FROM properties_2017\n",
    "    LEFT OUTER JOIN airconditioningtype \n",
    "    USING (airconditioningtypeid)\n",
    "    LEFT OUTER JOIN architecturalstyletype\n",
    "    USING (architecturalstyletypeid)\n",
    "    LEFT OUTER JOIN buildingclasstype \n",
    "    USING (buildingclasstypeid)\n",
    "    LEFT OUTER JOIN heatingorsystemtype\n",
    "    USING (heatingorsystemtypeid)\n",
    "    LEFT OUTER JOIN predictions_2017\n",
    "    USING (id)\n",
    "    INNER JOIN (\n",
    "    SELECT id, MAX(transactiondate) as last_trans_date \n",
    "    FROM predictions_2017\n",
    "    GROUP BY id\n",
    "    ) predictions ON predictions.id = properties_2017.id AND predictions_2017.transactiondate = predictions.last_trans_date\n",
    "    LEFT OUTER JOIN propertylandusetype\n",
    "    USING(propertylandusetypeid)\n",
    "    LEFT OUTER JOIN storytype\n",
    "    ON storytype.storytypeid = properties_2017.storytypeid\n",
    "    LEFT OUTER JOIN typeconstructiontype\n",
    "    ON typeconstructiontype.typeconstructiontypeid = properties_2017.typeconstructiontypeid\n",
    "    JOIN unique_properties\n",
    "    ON unique_properties.parcelid = properties_2017.parcelid\n",
    "    WHERE latitude IS NOT NULL and longitude IS NOT NULL; '''\n",
    "    df = pd.read_sql(sql_query, get_connection('zillow'))\n",
    "    return df \n",
    "\n",
    "def get_zillow_data():\n",
    "    '''get connection, returns zillow into a dataframe and creates a csv for us'''\n",
    "    if os.path.isfile('zillow.csv'):\n",
    "        df = pd.read_csv('zillow.csv', index_col=0)\n",
    "    else:\n",
    "        df = new_zillow_data()\n",
    "        df.to_csv('zillow.csv')\n",
    "    return df\n",
    "\n",
    "def nulls_by_col(df):\n",
    "    '''Returns a dataframe that shows the amount of null values in each column'''\n",
    "    num_missing = df.isnull().sum()\n",
    "    rows = df.shape[0]\n",
    "    prcnt_miss = num_missing / rows * 100\n",
    "    cols_missing = pd.DataFrame({'num_rows_missing': num_missing, 'percent_rows_missing': prcnt_miss})\n",
    "    return cols_missing\n",
    "\n",
    "def nulls_by_row(df):\n",
    "    '''Returns a dataframe that shows the amount of null values in each row'''\n",
    "    num_missing = df.isnull().sum(axis=1)\n",
    "    prcnt_miss = num_missing / df.shape[1] * 100\n",
    "    rows_missing = pd.DataFrame({'num_cols_missing': num_missing, 'percent_cols_missing': prcnt_miss})\\\n",
    "    .reset_index()\\\n",
    "    .groupby(['num_cols_missing', 'percent_cols_missing']).count()\\\n",
    "    .rename(index=str, columns={'customer_id': 'num_rows'}).reset_index()\n",
    "    return rows_missing"
   ]
  },
  {
   "cell_type": "code",
   "execution_count": 3,
   "id": "cae485a4",
   "metadata": {},
   "outputs": [],
   "source": [
    "df=get_zillow_data()"
   ]
  },
  {
   "cell_type": "markdown",
   "id": "9b366de4",
   "metadata": {},
   "source": [
    "## 2) Summarize your data (summary stats, info, dtypes, shape, distributions, value_counts, etc.)"
   ]
  },
  {
   "cell_type": "code",
   "execution_count": null,
   "id": "cbc8fd0c",
   "metadata": {},
   "outputs": [],
   "source": [
    "pd.set_option(\"display.max_rows\", None, \"display.max_columns\", None) "
   ]
  },
  {
   "cell_type": "code",
   "execution_count": null,
   "id": "8b4be67b",
   "metadata": {},
   "outputs": [],
   "source": [
    "nulls_by_col(df)"
   ]
  },
  {
   "cell_type": "code",
   "execution_count": 4,
   "id": "916ba2d9",
   "metadata": {},
   "outputs": [
    {
     "data": {
      "text/plain": [
       "(77614, 74)"
      ]
     },
     "execution_count": 4,
     "metadata": {},
     "output_type": "execute_result"
    }
   ],
   "source": [
    "df.shape"
   ]
  },
  {
   "cell_type": "code",
   "execution_count": null,
   "id": "6a235cb1",
   "metadata": {},
   "outputs": [],
   "source": [
    "df.shape"
   ]
  },
  {
   "cell_type": "code",
   "execution_count": null,
   "id": "749c5eac",
   "metadata": {},
   "outputs": [],
   "source": [
    "nulls_by_row(df)"
   ]
  },
  {
   "cell_type": "code",
   "execution_count": 5,
   "id": "fa3f9989",
   "metadata": {},
   "outputs": [],
   "source": [
    "df = df.loc[:,~df.columns.duplicated()]\n"
   ]
  },
  {
   "cell_type": "code",
   "execution_count": 6,
   "id": "34ea89a8",
   "metadata": {},
   "outputs": [
    {
     "data": {
      "text/plain": [
       "['propertylandusetypeid',\n",
       " 'id',\n",
       " 'heatingorsystemtypeid',\n",
       " 'buildingclasstypeid',\n",
       " 'architecturalstyletypeid',\n",
       " 'airconditioningtypeid',\n",
       " 'parcelid',\n",
       " 'basementsqft',\n",
       " 'bathroomcnt',\n",
       " 'bedroomcnt',\n",
       " 'buildingqualitytypeid',\n",
       " 'calculatedbathnbr',\n",
       " 'decktypeid',\n",
       " 'finishedfloor1squarefeet',\n",
       " 'calculatedfinishedsquarefeet',\n",
       " 'finishedsquarefeet12',\n",
       " 'finishedsquarefeet13',\n",
       " 'finishedsquarefeet15',\n",
       " 'finishedsquarefeet50',\n",
       " 'finishedsquarefeet6',\n",
       " 'fips',\n",
       " 'fireplacecnt',\n",
       " 'fullbathcnt',\n",
       " 'garagecarcnt',\n",
       " 'garagetotalsqft',\n",
       " 'hashottuborspa',\n",
       " 'latitude',\n",
       " 'longitude',\n",
       " 'lotsizesquarefeet',\n",
       " 'poolcnt',\n",
       " 'poolsizesum',\n",
       " 'pooltypeid10',\n",
       " 'pooltypeid2',\n",
       " 'pooltypeid7',\n",
       " 'propertycountylandusecode',\n",
       " 'propertyzoningdesc',\n",
       " 'rawcensustractandblock',\n",
       " 'regionidcity',\n",
       " 'regionidcounty',\n",
       " 'regionidneighborhood',\n",
       " 'regionidzip',\n",
       " 'roomcnt',\n",
       " 'storytypeid',\n",
       " 'threequarterbathnbr',\n",
       " 'typeconstructiontypeid',\n",
       " 'unitcnt',\n",
       " 'yardbuildingsqft17',\n",
       " 'yardbuildingsqft26',\n",
       " 'yearbuilt',\n",
       " 'numberofstories',\n",
       " 'fireplaceflag',\n",
       " 'structuretaxvaluedollarcnt',\n",
       " 'taxvaluedollarcnt',\n",
       " 'assessmentyear',\n",
       " 'landtaxvaluedollarcnt',\n",
       " 'taxamount',\n",
       " 'taxdelinquencyflag',\n",
       " 'taxdelinquencyyear',\n",
       " 'censustractandblock',\n",
       " 'airconditioningdesc',\n",
       " 'architecturalstyledesc',\n",
       " 'buildingclassdesc',\n",
       " 'heatingorsystemdesc',\n",
       " 'logerror',\n",
       " 'transactiondate',\n",
       " 'last_trans_date',\n",
       " 'propertylandusedesc',\n",
       " 'storydesc',\n",
       " 'typeconstructiondesc']"
      ]
     },
     "execution_count": 6,
     "metadata": {},
     "output_type": "execute_result"
    }
   ],
   "source": [
    "df.columns.tolist()"
   ]
  },
  {
   "cell_type": "code",
   "execution_count": 7,
   "id": "6e0efa1a",
   "metadata": {},
   "outputs": [
    {
     "data": {
      "text/plain": [
       "(77614, 69)"
      ]
     },
     "execution_count": 7,
     "metadata": {},
     "output_type": "execute_result"
    }
   ],
   "source": [
    "df.shape"
   ]
  },
  {
   "cell_type": "code",
   "execution_count": null,
   "id": "52a69b98",
   "metadata": {},
   "outputs": [],
   "source": [
    "df.columns.tolist()"
   ]
  },
  {
   "cell_type": "code",
   "execution_count": null,
   "id": "4571df7d",
   "metadata": {},
   "outputs": [],
   "source": []
  }
 ],
 "metadata": {
  "kernelspec": {
   "display_name": "Python 3",
   "language": "python",
   "name": "python3"
  },
  "language_info": {
   "codemirror_mode": {
    "name": "ipython",
    "version": 3
   },
   "file_extension": ".py",
   "mimetype": "text/x-python",
   "name": "python",
   "nbconvert_exporter": "python",
   "pygments_lexer": "ipython3",
   "version": "3.8.8"
  }
 },
 "nbformat": 4,
 "nbformat_minor": 5
}
